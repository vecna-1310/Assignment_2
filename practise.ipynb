{
  "nbformat": 4,
  "nbformat_minor": 0,
  "metadata": {
    "colab": {
      "provenance": [],
      "authorship_tag": "ABX9TyPzSxtM7zpZuT9WY+MBIqjB",
      "include_colab_link": true
    },
    "kernelspec": {
      "name": "python3",
      "display_name": "Python 3"
    },
    "language_info": {
      "name": "python"
    }
  },
  "cells": [
    {
      "cell_type": "markdown",
      "metadata": {
        "id": "view-in-github",
        "colab_type": "text"
      },
      "source": [
        "<a href=\"https://colab.research.google.com/github/vecna-1310/Assignment_2/blob/main/practise.ipynb\" target=\"_parent\"><img src=\"https://colab.research.google.com/assets/colab-badge.svg\" alt=\"Open In Colab\"/></a>"
      ]
    },
    {
      "cell_type": "code",
      "source": [
        "def name(a):\n",
        "  print(\"Hello\",a)\n",
        "  name(\"Tom\")\n"
      ],
      "metadata": {
        "id": "iMDpxGm5dgE6"
      },
      "execution_count": null,
      "outputs": []
    },
    {
      "cell_type": "code",
      "source": [
        "myfile="
      ],
      "metadata": {
        "id": "wOh97mxLjInU"
      },
      "execution_count": null,
      "outputs": []
    },
    {
      "cell_type": "markdown",
      "source": [
        "Hello frands I am Prakriti I am a computer enthusiast.\n"
      ],
      "metadata": {
        "id": "OgndMSCzjJqU"
      }
    }
  ]
}